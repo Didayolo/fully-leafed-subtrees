{
 "cells": [
  {
   "cell_type": "markdown",
   "metadata": {},
   "source": [
    "# La programmation linéaire et son implémentation dans Sage\n",
    "\n",
    "### Théorie\n",
    "\n",
    "\\- Problème d'optimisation\n",
    "\n",
    "\\- Un objectif à maximiser\n",
    "\n",
    "\\- Des contraintes"
   ]
  },
  {
   "cell_type": "code",
   "execution_count": null,
   "metadata": {
    "collapsed": true
   },
   "outputs": [],
   "source": [
    "\n",
    "\n",
    "\n",
    "\n",
    "\n",
    "\n",
    "\n",
    "\n",
    "\n",
    "\n",
    "\n",
    "\n",
    "\n",
    "\n",
    "\n",
    "\n",
    "\n",
    "\n",
    "\n",
    "\n"
   ]
  },
  {
   "cell_type": "markdown",
   "metadata": {},
   "source": [
    "### Modélisation d'un problème\n",
    "\n",
    "Exercice : On veut préparer 500 litres de punch à partir de cinq boissons A, B, C, D et E. Le punch doit comporter au moins 20% de jus d’orange, 10% de jus de pamplemousse et 5% de jus de framboise. D’après les donnees suivantes, quelle quantité de chaque boisson est nécessaire pour obtenir la composition requise au coût minimum ?\n",
    "\n",
    "\n",
    "<img src=\"files/exercice_pl.png\">"
   ]
  },
  {
   "cell_type": "code",
   "execution_count": null,
   "metadata": {
    "collapsed": true
   },
   "outputs": [],
   "source": [
    "\n",
    "\n",
    "\n",
    "\n",
    "\n",
    "\n",
    "\n",
    "\n",
    "\n",
    "\n"
   ]
  },
  {
   "cell_type": "markdown",
   "metadata": {},
   "source": [
    "### Implémentation dans Sage\n",
    "\n",
    "On déclare le programme : "
   ]
  },
  {
   "cell_type": "code",
   "execution_count": 7,
   "metadata": {
    "collapsed": true
   },
   "outputs": [],
   "source": [
    "p = MixedIntegerLinearProgram(maximization=False) # solver=GLPK, maximization=True"
   ]
  },
  {
   "cell_type": "markdown",
   "metadata": {},
   "source": [
    "Les variables :"
   ]
  },
  {
   "cell_type": "code",
   "execution_count": 20,
   "metadata": {
    "collapsed": true
   },
   "outputs": [],
   "source": [
    "x = p.new_variable(nonnegative=True) # binary=True"
   ]
  },
  {
   "cell_type": "markdown",
   "metadata": {},
   "source": [
    "La fonction objectif :\n",
    "\n",
    "Par defaut, le solver va maximiser la fonction objectif."
   ]
  },
  {
   "cell_type": "code",
   "execution_count": 21,
   "metadata": {
    "collapsed": false
   },
   "outputs": [],
   "source": [
    "p.set_objective(1.5 * x['a'] + 0.75 * x['b'] + 2 * x['c'] + 1.75 * x['d'] + 0.25 * x['e'])"
   ]
  },
  {
   "cell_type": "markdown",
   "metadata": {},
   "source": [
    "Les contraintes : \n",
    "\n",
    "Ce sont des conditions."
   ]
  },
  {
   "cell_type": "code",
   "execution_count": 22,
   "metadata": {
    "collapsed": true
   },
   "outputs": [],
   "source": [
    "total = x['a'] + x['b'] + x['c'] + x['d'] + x['e'] # quantité de punch\n",
    "\n",
    "p.add_constraint(total >= 500) # 500 litres de punch\n",
    "p.add_constraint(40 * x['a'] + 5 * x['b'] + 100 * x['c'] >= 20 * total) # proportion de jus d'orange\n",
    "p.add_constraint(40 * x['a'] + 10 * x['b'] + 100 * x['d'] >= 10 * total) # proportion de jus de pamplemousse\n",
    "p.add_constraint(20 * x['b'] >= 5 * total) # proportion de jus de framboise\n",
    "\n",
    "p.add_constraint(x['a'] <= 200) # contraintes sur les quantites disponibles\n",
    "p.add_constraint(x['b'] <= 400)\n",
    "p.add_constraint(x['c'] <= 100)\n",
    "p.add_constraint(x['d'] <= 50)\n",
    "p.add_constraint(x['e'] <= 800)"
   ]
  },
  {
   "cell_type": "markdown",
   "metadata": {},
   "source": [
    "On lance la résolution : "
   ]
  },
  {
   "cell_type": "code",
   "execution_count": 27,
   "metadata": {
    "collapsed": false
   },
   "outputs": [
    {
     "name": "stdout",
     "output_type": "stream",
     "text": [
      "403.125\n",
      "{'a': 93.75, 'c': 56.25, 'b': 125.0, 'e': 225.0, 'd': 0.0}\n"
     ]
    }
   ],
   "source": [
    "print(p.solve()) # renvoi la valeur de la fonction objectif optimale\n",
    "print(p.get_values(x))"
   ]
  },
  {
   "cell_type": "code",
   "execution_count": 38,
   "metadata": {
    "collapsed": false
   },
   "outputs": [],
   "source": [
    "# tests\n",
    "\n",
    "xo = p.get_values(x)\n",
    "totalo = xo['a'] + xo['b'] + xo['c'] + xo['d'] + xo['e']\n",
    "orange = (40 * xo['a'] + 5 * xo['b'] + 100 * xo['c']) / totalo\n",
    "pamplemousse = (40 * xo['a'] + 10 * xo['b'] + 100 * xo['d']) / totalo\n",
    "framboise = (20 * xo['b']) / totalo"
   ]
  },
  {
   "cell_type": "code",
   "execution_count": 39,
   "metadata": {
    "collapsed": false
   },
   "outputs": [
    {
     "data": {
      "text/plain": [
       "5.0"
      ]
     },
     "execution_count": 39,
     "metadata": {},
     "output_type": "execute_result"
    }
   ],
   "source": [
    "framboise"
   ]
  },
  {
   "cell_type": "code",
   "execution_count": null,
   "metadata": {
    "collapsed": true
   },
   "outputs": [],
   "source": []
  }
 ],
 "metadata": {
  "kernelspec": {
   "display_name": "SageMath 7.6",
   "language": "",
   "name": "sagemath"
  },
  "language_info": {
   "codemirror_mode": {
    "name": "ipython",
    "version": 2
   },
   "file_extension": ".py",
   "mimetype": "text/x-python",
   "name": "python",
   "nbconvert_exporter": "python",
   "pygments_lexer": "ipython2",
   "version": "2.7.13"
  }
 },
 "nbformat": 4,
 "nbformat_minor": 2
}
