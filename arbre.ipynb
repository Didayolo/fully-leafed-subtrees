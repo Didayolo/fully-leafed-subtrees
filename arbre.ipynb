{
 "cells": [
  {
   "cell_type": "markdown",
   "metadata": {
    "deletable": true,
    "editable": true
   },
   "source": [
    "# Fully leafed subtree from a tree\n",
    "\n",
    "On se place dans le cas particulier dans lequel le graphe est un arbre a n sommets, et on cherche parmis les sous-arbre de taille k celui qui a le plus de feuilles.\n",
    "\n",
    "On veux generer le programme lineaire a partir d'un graphe."
   ]
  },
  {
   "cell_type": "markdown",
   "metadata": {
    "deletable": true,
    "editable": true
   },
   "source": [
    "## Le programme linéaire\n",
    "\n",
    "### Variables\n",
    "\n",
    "$$ \n",
    "x_{i,j} =\n",
    "  \\begin{cases}\n",
    "    0, & \\text{Absence d'arête entre les sommets i et j dans le sous-arbre} \\\\\n",
    "    1, & \\text{Présence d'arête entre les sommets i et j dans le sous-arbre}\n",
    "  \\end{cases}\n",
    "$$\n",
    " \n",
    "$$ \n",
    "y_{i} =\n",
    "  \\begin{cases}\n",
    "    0, & \\text{Absence du sommet i dans le sous-arbre} \\\\\n",
    "    1, & \\text{Présence du sommet i dans le sous-arbre}\n",
    "  \\end{cases}\n",
    "$$\n",
    " \n",
    "$$ \n",
    "f_{i} =\n",
    "  \\begin{cases}\n",
    "    0, & \\text{Le sommet i n'est pas une feuille} \\\\\n",
    "    1, & \\text{Le sommet i est une feuille}\n",
    "  \\end{cases}\n",
    "$$\n",
    "\n"
   ]
  },
  {
   "cell_type": "markdown",
   "metadata": {
    "deletable": true,
    "editable": true
   },
   "source": [
    "### Fonction objectif\n",
    "\n",
    "On souhaite maximiser la fonction suivante: \n",
    "$$ f() = \\sum_{0}^{i} f_{i} $$"
   ]
  },
  {
   "cell_type": "markdown",
   "metadata": {
    "deletable": true,
    "editable": true
   },
   "source": [
    "### Contraintes\n",
    "\n",
    "On impose la taille du sous-arbre : \n",
    "$$ \\sum_{0}^{i} y_{i} = k $$\n",
    "\n",
    "On vérifie que le nombre d'arêtes est égal au nombre de sommets - 1 :\n",
    "$$ \\sum_{}^{} x_{i,j} = k - 1 $$\n",
    "\n",
    "Présence d'une arête : \n",
    "$$ x_{i,j} <= \\frac{y_{i} + y_{j}}{2} $$\n",
    "\n",
    "Une feuille est un sommet (mais pas forcément l'inverse) : \n",
    "$$ f_{i} <= y_{i} $$\n",
    "\n",
    "Une feuille est un sommet de degré 1 :\n",
    "$$ f_{i} <= 1 + \\frac{1 - d}{m} $$ avec m le degré maximal du graphe"
   ]
  },
  {
   "cell_type": "code",
   "execution_count": null,
   "metadata": {
    "collapsed": true,
    "deletable": true,
    "editable": true
   },
   "outputs": [],
   "source": []
  }
 ],
 "metadata": {
  "kernelspec": {
   "display_name": "SageMath 7.6",
   "language": "",
   "name": "sagemath"
  },
  "language_info": {
   "codemirror_mode": {
    "name": "ipython",
    "version": 2
   },
   "file_extension": ".py",
   "mimetype": "text/x-python",
   "name": "python",
   "nbconvert_exporter": "python",
   "pygments_lexer": "ipython2",
   "version": "2.7.13"
  }
 },
 "nbformat": 4,
 "nbformat_minor": 2
}
