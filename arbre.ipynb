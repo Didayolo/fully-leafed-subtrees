{
 "cells": [
  {
   "cell_type": "markdown",
   "metadata": {
    "deletable": true,
    "editable": true
   },
   "source": [
    "# Fully leafed subtree from a tree\n",
    "\n",
    "On se place dans le cas particulier dans lequel le graphe est un arbre a n sommets, et on cherche parmis les sous-arbre de taille k celui qui a le plus de feuilles.\n",
    "\n",
    "On veux generer le programme lineaire a partir d'un graphe."
   ]
  },
  {
   "cell_type": "markdown",
   "metadata": {
    "deletable": true,
    "editable": true
   },
   "source": [
    "## Le programme linéaire\n",
    "\n",
    "### Variables\n",
    "\n",
    "$$ \n",
    "x_{i,j} =\n",
    "  \\begin{cases}\n",
    "    0, & \\text{Absence d'arête entre les sommets i et j dans le sous-arbre} \\\\\n",
    "    1, & \\text{Présence d'arête entre les sommets i et j dans le sous-arbre}\n",
    "  \\end{cases}\n",
    "$$\n",
    " \n",
    "$$ \n",
    "y_{i} =\n",
    "  \\begin{cases}\n",
    "    0, & \\text{Absence du sommet i dans le sous-arbre} \\\\\n",
    "    1, & \\text{Présence du sommet i dans le sous-arbre}\n",
    "  \\end{cases}\n",
    "$$\n",
    " \n",
    "$$ \n",
    "f_{i} =\n",
    "  \\begin{cases}\n",
    "    0, & \\text{Le sommet i n'est pas une feuille} \\\\\n",
    "    1, & \\text{Le sommet i est une feuille}\n",
    "  \\end{cases}\n",
    "$$\n",
    "\n"
   ]
  },
  {
   "cell_type": "markdown",
   "metadata": {
    "deletable": true,
    "editable": true
   },
   "source": [
    "### Fonction objectif\n",
    "\n",
    "On souhaite maximiser la fonction suivante: \n",
    "$$ f() = \\sum_{0}^{i} f_{i} $$"
   ]
  },
  {
   "cell_type": "markdown",
   "metadata": {
    "deletable": true,
    "editable": true
   },
   "source": [
    "### Contraintes\n",
    "\n",
    "On impose la taille du sous-arbre : \n",
    "$$ \\sum_{0}^{i} y_{i} = k $$\n",
    "\n",
    "On vérifie que le nombre d'arêtes est égal au nombre de sommets - 1 :\n",
    "$$ \\sum_{}^{} x_{i,j} = k - 1 $$\n",
    "\n",
    "Présence d'une arête : \n",
    "$$ x_{i,j} <= \\frac{y_{i} + y_{j}}{2} $$\n",
    "\n",
    "Une feuille est un sommet (mais pas forcément l'inverse) : \n",
    "$$ f_{i} <= y_{i} $$\n",
    "\n",
    "Une feuille est un sommet de degré 1 :\n",
    "$$ f_{i} <= 1 + \\frac{1 - d}{m} $$ avec m le degré maximal du graphe"
   ]
  },
  {
   "cell_type": "code",
   "execution_count": 11,
   "metadata": {
    "collapsed": true,
    "deletable": true,
    "editable": true
   },
   "outputs": [],
   "source": [
    "def generate_program(g, k):\n",
    "# Resolution du probleme pour un graphe g et une constante k \n",
    "# k est la taille du sous arbre\n",
    "\n",
    "# Dans le cas general, on pourrait verifier si le graphe est un arbre et executer cette fonction si c'est le cas\n",
    "\n",
    "    g.show() # on visualise l'entree\n",
    "\n",
    "    if not g.is_tree():\n",
    "        print(\"Graph is not a tree\")\n",
    "    \n",
    "    else:\n",
    "    \n",
    "        print(\"Generating linear program...\")\n",
    "\n",
    "        # constantes\n",
    "        edges = g.edges(labels=False) # liste de couples representants les aretes\n",
    "        n = g.order() # taille de l'arbre\n",
    "        a = g.size() # nombre d'arete\n",
    "        m = n - 1 # borne sup du degre max du graphe (a paufiner et renommer) \n",
    "            \n",
    "        p = MixedIntegerLinearProgram() # tester des solvers \n",
    "        \n",
    "        # variables du PL\n",
    "        x = p.new_variable(binary = True) # aretes, x[e] si e arete presente dans le sous-arbre selectionne \n",
    "        y = p.new_variable(binary = True) # sommets y[i] si i est present dans le sous-arbre\n",
    "        f = p.new_variable(binary = True) # feuilles f[i] si i est une feuille du sous-arbre\n",
    "        \n",
    "        # fonction objectif\n",
    "        p.set_objective(p.sum(f[i] for i in range(n))) # + p.sum(x[e] for e in edges) )\n",
    "        \n",
    "        # contraintes\n",
    "        p.add_constraint(p.sum(y[i] for i in range(n)) == k)  # k la taille du sous arbre \n",
    "        p.add_constraint(p.sum(x[e] for e in edges) == k - 1)  # arbre connexe (m = n + 1)\n",
    "\n",
    "        # contraintes aretes (generer)\n",
    "        for i,j in edges:\n",
    "            p.add_constraint(x[i, j] <= (y[i] + y[j])/2)  # presence d'une arete\n",
    "\n",
    "        for i in range(n): # parcours des sommets pour determiner les feuilles\n",
    "            p.add_constraint(f[i] <= y[i]) # une feuille est un sommet \n",
    "\n",
    "            degree = p.sum( (x[i,j] + x[j,i]) for j in g.neighbors(i)) # degre du sommet i\n",
    "                \n",
    "            p.add_constraint(f[i] <= 1 + (1./m) - (degree * (1./m) ) )  # contraintes sur les feuilles\n",
    "        \n",
    "        return p"
   ]
  },
  {
   "cell_type": "code",
   "execution_count": null,
   "metadata": {
    "collapsed": true,
    "deletable": true,
    "editable": true
   },
   "outputs": [],
   "source": [
    "def solve_program(p, g):        \n",
    "        # resolution\n",
    "        print(\"Solving...\")\n",
    "        \n",
    "        try:\n",
    "            print(p.solve())\n",
    "            print(\"Aretes x\")\n",
    "            print(p.get_values(x))\n",
    "            print(\"Sommets y\")\n",
    "            print(p.get_values(y))\n",
    "            print(\"Feuilles f\")\n",
    "            print(p.get_values(f))\n",
    "\n",
    "            # affichage de la solution\n",
    "            \n",
    "            #liste de sommets du sous-arbre induit\n",
    "            ve = []\n",
    "            for k, v in p.get_values(y).iteritems():\n",
    "                if v == 1:\n",
    "                    ve.append(k)\n",
    "\n",
    "            #liste d'aretes du sous-arbre induit\n",
    "            ed = []\n",
    "            for k, v in p.get_values(x).iteritems():\n",
    "                if v == 1:\n",
    "                    ed.append(k)\n",
    "\n",
    "            #sous-graphe avec les sommets et aretes choisies\n",
    "            g2 = g.subgraph(vertices=ve, edges=ed)\n",
    "            g2.show()\n",
    "            print(\"Solved.\")\n",
    "        \n",
    "        except:\n",
    "            print(\"Impossible to solve.\")"
   ]
  },
  {
   "cell_type": "code",
   "execution_count": null,
   "metadata": {
    "collapsed": false,
    "deletable": true,
    "editable": true
   },
   "outputs": [],
   "source": [
    "g = graphs.FibonacciTree(7)\n",
    "k = 12\n",
    "p = generate_program(g, k)\n",
    "solve_program(p, g)        "
   ]
  },
  {
   "cell_type": "code",
   "execution_count": null,
   "metadata": {
    "collapsed": true,
    "deletable": true,
    "editable": true
   },
   "outputs": [],
   "source": []
  }
 ],
 "metadata": {
  "kernelspec": {
   "display_name": "SageMath 7.6",
   "language": "",
   "name": "sagemath"
  },
  "language_info": {
   "codemirror_mode": {
    "name": "ipython",
    "version": 2
   },
   "file_extension": ".py",
   "mimetype": "text/x-python",
   "name": "python",
   "nbconvert_exporter": "python",
   "pygments_lexer": "ipython2",
   "version": "2.7.13"
  }
 },
 "nbformat": 4,
 "nbformat_minor": 2
}
